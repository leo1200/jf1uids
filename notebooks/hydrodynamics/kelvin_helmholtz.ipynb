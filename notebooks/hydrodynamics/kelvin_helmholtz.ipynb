{
 "cells": [
  {
   "cell_type": "markdown",
   "metadata": {},
   "source": [
    "# 2D Kelvin Helmholtz Instability"
   ]
  },
  {
   "cell_type": "markdown",
   "metadata": {},
   "source": [
    "## Imports"
   ]
  },
  {
   "cell_type": "code",
   "execution_count": 1,
   "metadata": {},
   "outputs": [],
   "source": [
    "# %pip install ../\n",
    "\n",
    "# numerics\n",
    "import jax\n",
    "import jax.numpy as jnp\n",
    "jax.config.update(\"jax_enable_x64\", True)\n",
    "\n",
    "# timing\n",
    "from timeit import default_timer as timer\n",
    "\n",
    "# plotting\n",
    "import matplotlib.pyplot as plt\n",
    "from matplotlib.gridspec import GridSpec\n",
    "\n",
    "# jf1uids\n",
    "from jf1uids import SimulationConfig\n",
    "from jf1uids import get_helper_data\n",
    "from jf1uids import SimulationParams\n",
    "from jf1uids import time_integration\n",
    "from jf1uids.fluid_equations.fluid import construct_primitive_state\n",
    "from jf1uids import get_registered_variables\n",
    "from jf1uids.option_classes.simulation_config import finalize_config"
   ]
  },
  {
   "cell_type": "markdown",
   "metadata": {},
   "source": [
    "## Initiating the Kelvin Helmholtz Instability"
   ]
  },
  {
   "cell_type": "code",
   "execution_count": 2,
   "metadata": {},
   "outputs": [
    {
     "name": "stdout",
     "output_type": "stream",
     "text": [
      "👷 Setting up simulation...\n"
     ]
    }
   ],
   "source": [
    "from jf1uids.option_classes.simulation_config import BACKWARDS, FORWARDS, HLL, MINMOD, OSHER, PERIODIC_BOUNDARY, BoundarySettings, BoundarySettings1D\n",
    "\n",
    "print(\"👷 Setting up simulation...\")\n",
    "\n",
    "# simulation settings\n",
    "gamma = 5/3\n",
    "\n",
    "# spatial domain\n",
    "box_size = 1.0\n",
    "num_cells = 512\n",
    "\n",
    "fixed_timestep = False\n",
    "scale_time = False\n",
    "dt_max = 0.1\n",
    "num_timesteps = 2000\n",
    "\n",
    "# setup simulation config\n",
    "config = SimulationConfig(\n",
    "    runtime_debugging = False,\n",
    "    first_order_fallback = False,\n",
    "    progress_bar = True,\n",
    "    dimensionality = 2,\n",
    "    box_size = box_size, \n",
    "    num_cells = num_cells,\n",
    "    fixed_timestep = fixed_timestep,\n",
    "    differentiation_mode = FORWARDS,\n",
    "    num_timesteps = num_timesteps,\n",
    "    boundary_settings = BoundarySettings(\n",
    "        x = BoundarySettings1D(PERIODIC_BOUNDARY, PERIODIC_BOUNDARY),\n",
    "        y = BoundarySettings1D(PERIODIC_BOUNDARY, PERIODIC_BOUNDARY)\n",
    "    ),\n",
    "    limiter = MINMOD\n",
    ")\n",
    "\n",
    "helper_data = get_helper_data(config)\n",
    "\n",
    "params = SimulationParams(\n",
    "    t_end = 2.0,\n",
    "    C_cfl = 0.4\n",
    ")\n",
    "\n",
    "registered_variables = get_registered_variables(config)"
   ]
  },
  {
   "cell_type": "markdown",
   "metadata": {},
   "source": [
    "## Setting the initial state"
   ]
  },
  {
   "cell_type": "code",
   "execution_count": 3,
   "metadata": {},
   "outputs": [],
   "source": [
    "from jax.random import PRNGKey, uniform\n",
    "\n",
    "# Set the random seed for reproducibility\n",
    "key = PRNGKey(0)\n",
    "\n",
    "# Grid size and configuration\n",
    "num_cells = config.num_cells\n",
    "x = jnp.linspace(0, 1, num_cells)\n",
    "y = jnp.linspace(0, 1, num_cells)\n",
    "X, Y = jnp.meshgrid(x, y, indexing=\"ij\")\n",
    "\n",
    "# Initialize state\n",
    "rho = jnp.ones_like(X)\n",
    "u_x = 0.5 * jnp.ones_like(X)\n",
    "u_y = 0.01 * jnp.sin(2 * jnp.pi * X)\n",
    "\n",
    "# between y = 0.25 and y = 0.75 set u_x to -0.5 and rho to 2.0\n",
    "mask = (Y > 0.25) & (Y < 0.75)\n",
    "u_x = jnp.where(mask, -0.5, u_x)\n",
    "rho = jnp.where(mask, 2.0, rho)\n",
    "\n",
    "# Initialize pressure\n",
    "p = jnp.ones((num_cells, num_cells)) * 2.5\n",
    "\n",
    "\n",
    "# initial state\n",
    "initial_state = construct_primitive_state(\n",
    "    config = config,\n",
    "    registered_variables = registered_variables,\n",
    "    density = rho,\n",
    "    velocity_x = u_x,\n",
    "    velocity_y = u_y,\n",
    "    gas_pressure = p\n",
    ")\n",
    "\n",
    "config = finalize_config(config, initial_state.shape)"
   ]
  },
  {
   "cell_type": "markdown",
   "metadata": {},
   "source": [
    "## Simulation and Gradient"
   ]
  },
  {
   "cell_type": "code",
   "execution_count": 4,
   "metadata": {},
   "outputs": [],
   "source": [
    "final_state = time_integration(initial_state, config, params, helper_data, registered_variables)"
   ]
  },
  {
   "cell_type": "markdown",
   "metadata": {},
   "source": [
    "## Visualization"
   ]
  },
  {
   "cell_type": "markdown",
   "metadata": {},
   "source": [
    "### Cut"
   ]
  },
  {
   "cell_type": "code",
   "execution_count": null,
   "metadata": {},
   "outputs": [
    {
     "name": "stdout",
     "output_type": "stream",
     "text": [
      " |██--------------------------------------------------------------------------------------------------| 3.0% \r"
     ]
    }
   ],
   "source": [
    "from matplotlib.colors import LogNorm\n",
    "\n",
    "s = 0.1\n",
    "\n",
    "fig, (ax1, ax2, ax3) = plt.subplots(1, 3, figsize=(15, 5))\n",
    "\n",
    "# equal aspect ratio\n",
    "ax1.set_aspect('equal', 'box')\n",
    "ax2.set_aspect('equal', 'box')\n",
    "ax3.set_aspect('equal', 'box')\n",
    "\n",
    "x = jnp.linspace(0, box_size, num_cells)\n",
    "y = jnp.linspace(0, box_size, num_cells)\n",
    "\n",
    "ym, xm = jnp.meshgrid(x, y)\n",
    "\n",
    "# on the first axis plot the density\n",
    "# log scaler\n",
    "norm_rho = LogNorm(vmin = jnp.min(final_state[0, :, :]), vmax = jnp.max(final_state[0, :, :]), clip = True)\n",
    "norm_p = LogNorm(vmin = jnp.min(final_state[3, :, :]), vmax = jnp.max(final_state[3, :, :]), clip = True)\n",
    "\n",
    "# ax1.scatter(xm.flatten(), ym.flatten(), c = final_state[0, :, :].flatten(), s = s, norm = norm_rho, marker = \"s\", cmap = \"jet\")\n",
    "# ax1.set_title(\"Density\")\n",
    "\n",
    "ax1.imshow(final_state[0, :, :].T, norm = norm_rho, cmap = \"jet\", origin = \"lower\", extent = [0, box_size, 0, box_size])\n",
    "ax1.set_title(\"Density\")\n",
    "\n",
    "# on the second axis plot the absolute velocity\n",
    "# abs_vel = jnp.sqrt(final_state[1, :, :]**2 + final_state[2, :, :]**2)\n",
    "\n",
    "# vel_norm = LogNorm(vmin = jnp.min(abs_vel), vmax = jnp.max(abs_vel), clip = True)\n",
    "\n",
    "ax2.imshow(final_state[1, :, :].T, cmap = \"jet\", origin = \"lower\", extent = [0, box_size, 0, box_size])\n",
    "ax2.set_title(\"Velocity\")\n",
    "\n",
    "# on the third axis plot the pressure\n",
    "ax3.imshow(final_state[4, :, :].T, norm = norm_p, cmap = \"jet\", origin = \"lower\", extent = [0, box_size, 0, box_size])\n",
    "ax3.set_title(\"Pressure\")\n"
   ]
  },
  {
   "cell_type": "code",
   "execution_count": null,
   "metadata": {},
   "outputs": [],
   "source": []
  }
 ],
 "metadata": {
  "kernelspec": {
   "display_name": "Python 3",
   "language": "python",
   "name": "python3"
  },
  "language_info": {
   "codemirror_mode": {
    "name": "ipython",
    "version": 3
   },
   "file_extension": ".py",
   "mimetype": "text/x-python",
   "name": "python",
   "nbconvert_exporter": "python",
   "pygments_lexer": "ipython3",
   "version": "3.11.11"
  }
 },
 "nbformat": 4,
 "nbformat_minor": 2
}
