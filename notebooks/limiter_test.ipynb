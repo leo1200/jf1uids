{
 "cells": [
  {
   "cell_type": "code",
   "execution_count": 13,
   "metadata": {},
   "outputs": [
    {
     "name": "stdout",
     "output_type": "stream",
     "text": [
      "[[ 0.99999106  0.99999106  0.9999955   0.9999955   1.0000011   0.9999975\n",
      "   0.9999975   1.0000002   1.0000004   1.          1.          0.9999995\n",
      "   0.9999995   0.         -0.          1.          1.          1.        ]\n",
      " [ 0.99999106  0.99999106  0.9999955   0.9999955   1.0000011   0.9999975\n",
      "   0.9999975   1.0000002   1.0000004   1.          1.          0.9999995\n",
      "   0.9999995   0.         -0.          1.          1.          1.        ]\n",
      " [ 0.99999106  0.99999106  0.9999955   0.9999955   1.0000011   0.9999975\n",
      "   0.9999975   1.0000002   1.0000004   1.          1.          0.9999995\n",
      "   0.9999995   0.         -0.          1.          1.          1.        ]]\n",
      "[[0.99999106 0.99999106 0.9999955  0.9999955  1.0000011  0.9999975\n",
      "  0.9999975  1.0000002  1.0000004  1.         1.         0.9999995\n",
      "  0.9999995  0.         0.         1.         1.         1.        ]\n",
      " [0.99999106 0.99999106 0.9999955  0.9999955  1.0000011  0.9999975\n",
      "  0.9999975  1.0000002  1.0000004  1.         1.         0.9999995\n",
      "  0.9999995  0.         0.         1.         1.         1.        ]\n",
      " [0.99999106 0.99999106 0.9999955  0.9999955  1.0000011  0.9999975\n",
      "  0.9999975  1.0000002  1.0000004  1.         1.         0.9999995\n",
      "  0.9999995  0.         0.         1.         1.         1.        ]]\n"
     ]
    }
   ],
   "source": [
    "import jax.numpy as jnp\n",
    "\n",
    "# construct primitive states as a liner profile with jump\n",
    "cell_centers = jnp.arange(0.0, 1.0, 0.05) ** 2\n",
    "\n",
    "cell_distances_left = cell_centers[1:-1] - cell_centers[:-2]\n",
    "cell_distances_right = cell_centers[2:] - cell_centers[1:-1]\n",
    "\n",
    "primitive_states = jnp.zeros((3, len(cell_centers)))\n",
    "primitive_states = primitive_states.at[:, :].set(jnp.where(cell_centers < 0.5, 1.0, 0.0))\n",
    "primitive_states = primitive_states.at[:, :].add(cell_centers)\n",
    "\n",
    "# formulation 1:\n",
    "a = (primitive_states[:, 1:-1] - primitive_states[:, :-2]) / cell_distances_left\n",
    "b = (primitive_states[:, 2:] - primitive_states[:, 1:-1]) / cell_distances_right\n",
    "g = jnp.where(a != 0, jnp.divide(b, a), jnp.zeros_like(a))\n",
    "slope_limited = jnp.maximum(0, jnp.minimum(1, g)) # minmod\n",
    "limited_gradients_1 = slope_limited * a\n",
    "\n",
    "# formulation 2:\n",
    "def _minmod(a, b):\n",
    "    return 0.5 * (jnp.sign(a) + jnp.sign(b)) * jnp.minimum(jnp.abs(a), jnp.abs(b))\n",
    "limited_gradients_2 = _minmod(\n",
    "    (primitive_states[:, 1:-1] - primitive_states[:, :-2]) / cell_distances_left,\n",
    "    (primitive_states[:, 2:] - primitive_states[:, 1:-1]) / cell_distances_right\n",
    ")\n",
    "\n",
    "print(limited_gradients_1)\n",
    "print(limited_gradients_2)\n",
    "\n",
    "# check that the two formulations are equivalent\n",
    "assert jnp.allclose(limited_gradients_1, limited_gradients_2)"
   ]
  }
 ],
 "metadata": {
  "kernelspec": {
   "display_name": "Python 3",
   "language": "python",
   "name": "python3"
  },
  "language_info": {
   "codemirror_mode": {
    "name": "ipython",
    "version": 3
   },
   "file_extension": ".py",
   "mimetype": "text/x-python",
   "name": "python",
   "nbconvert_exporter": "python",
   "pygments_lexer": "ipython3",
   "version": "3.11.11"
  }
 },
 "nbformat": 4,
 "nbformat_minor": 2
}
