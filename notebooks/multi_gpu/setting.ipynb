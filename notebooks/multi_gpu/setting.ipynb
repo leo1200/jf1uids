{
 "cells": [
  {
   "cell_type": "code",
   "execution_count": 1,
   "id": "e16d5e9b",
   "metadata": {},
   "outputs": [],
   "source": [
    "from functools import partial\n",
    "import jax\n",
    "import jax.numpy as jnp\n",
    "\n",
    "@partial(jax.jit, static_argnames=['axis', 'set_index', 'get_index', 'var_index', 'factor'])\n",
    "def _set_specific_var_along_axis(\n",
    "    primitive_state: jnp.ndarray,\n",
    "    axis: int,\n",
    "    set_index: int,\n",
    "    get_index: int,\n",
    "    var_index: int,\n",
    "    factor: float\n",
    ") -> jnp.ndarray:\n",
    "\n",
    "    s_set = (var_index,) + (slice(None),) * (axis - 1) + (set_index,) + (slice(None),)*(primitive_state.ndim - axis - 1)\n",
    "    s_get = (var_index,) + (slice(None),) * (axis - 1) + (get_index,) + (slice(None),)*(primitive_state.ndim - axis - 1)\n",
    "\n",
    "    primitive_state = primitive_state.at[s_set].set(factor * primitive_state[s_get])\n",
    "\n",
    "    return primitive_state"
   ]
  },
  {
   "cell_type": "code",
   "execution_count": 2,
   "id": "cf305c3c",
   "metadata": {},
   "outputs": [],
   "source": [
    "# get random example array of sice 512^3\n",
    "arr = jax.random.normal(jax.random.PRNGKey(0), (5, 512, 512, 512))\n",
    "\n",
    "set_index = 0\n",
    "get_index = -1\n",
    "axis = 1"
   ]
  },
  {
   "cell_type": "code",
   "execution_count": 3,
   "id": "ab2f983b",
   "metadata": {},
   "outputs": [],
   "source": [
    "new_arr = _set_specific_var_along_axis(\n",
    "    arr,\n",
    "    axis=axis,\n",
    "    set_index=set_index,\n",
    "    get_index=get_index,\n",
    "    var_index=0,\n",
    "    factor=1.0\n",
    ")"
   ]
  },
  {
   "cell_type": "code",
   "execution_count": 5,
   "id": "484c9b37",
   "metadata": {},
   "outputs": [
    {
     "name": "stdout",
     "output_type": "stream",
     "text": [
      "1.54 ms ± 657 ns per loop (mean ± std. dev. of 7 runs, 1,000 loops each)\n"
     ]
    }
   ],
   "source": [
    "%timeit _set_specific_var_along_axis(arr, axis=axis, set_index=set_index, get_index=get_index, var_index=0, factor=1.0).block_until_ready()"
   ]
  }
 ],
 "metadata": {
  "kernelspec": {
   "display_name": "jf1uids",
   "language": "python",
   "name": "python3"
  },
  "language_info": {
   "codemirror_mode": {
    "name": "ipython",
    "version": 3
   },
   "file_extension": ".py",
   "mimetype": "text/x-python",
   "name": "python",
   "nbconvert_exporter": "python",
   "pygments_lexer": "ipython3",
   "version": "3.10.16"
  }
 },
 "nbformat": 4,
 "nbformat_minor": 5
}
