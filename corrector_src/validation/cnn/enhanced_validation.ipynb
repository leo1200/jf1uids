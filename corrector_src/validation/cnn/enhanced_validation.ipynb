{
 "cells": [
  {
   "cell_type": "code",
   "execution_count": 1,
   "id": "d6a94b41",
   "metadata": {},
   "outputs": [],
   "source": [
    "import os\n",
    "os.environ[\"CUDA_VISIBLE_DEVICES\"] = \"9\"\n",
    "import jax\n",
    "import jax.numpy as jnp\n",
    "from corrector_src.model._cnn_mhd_corrector import CorrectorCNN\n",
    "from corrector_src.model._cnn_mhd_corrector_options import (\n",
    "    CNNMHDParams,\n",
    "    CNNMHDconfig,\n",
    ")\n",
    "import equinox as eqx\n",
    "import corrector_src.data.blast_creation as blast\n",
    "from hydra import initialize, initialize_config_module, initialize_config_dir, compose\n",
    "from jf1uids.option_classes.simulation_config import finalize_config\n",
    "from jf1uids import time_integration\n",
    "from corrector_src.utils.downaverage import downaverage_states\n",
    " "
   ]
  },
  {
   "cell_type": "code",
   "execution_count": 2,
   "id": "9b76ce15",
   "metadata": {},
   "outputs": [
    {
     "name": "stdout",
     "output_type": "stream",
     "text": [
      "{'experiment': {'name': 'experiment_1'}, 'training': {'epochs': 300, 'n_look_behind': 5, 'learning_rate': 0.0001, 'precomputed_data': True, 'return_full_sim': False, 'return_full_sim_epoch_interval': 10, 'rng_key': 60}, 'data': {'hr_res': 64, 'downscaling_factor': 2, 'randomizer_1': [0.5, 1.5], 'randomizer_2': [0.5, 1.5], 'randomizer_3': [0.5, 1.5], 'num_snapshots': 50, 'num_checkpoints': 50}, 'models': {'_target_': 'corrector_src.model._cnn_mhd_corrector.CorrectorCNN', 'in_channels': 8, 'hidden_channels': 16}}\n"
     ]
    }
   ],
   "source": [
    "with initialize(version_base=None, config_path=\"../../../configs\"):\n",
    "    cfg = compose(\n",
    "        config_name=\"config\",\n",
    "    )\n",
    "    print(cfg)\n"
   ]
  },
  {
   "cell_type": "code",
   "execution_count": 3,
   "id": "f47b11df",
   "metadata": {},
   "outputs": [],
   "source": [
    "model = CorrectorCNN(\n",
    "    in_channels=8,\n",
    "    hidden_channels=16,\n",
    "    key=jax.random.PRNGKey(42),\n",
    ")\n",
    "model = eqx.tree_deserialise_leaves(\n",
    "    os.path.abspath(\n",
    "        \"/export/home/jalegria/Thesis/jf1uids/experiments/experiment_1/2025-09-29_14-38-20_10/cnn_model.eqx\"\n",
    "    ),\n",
    "    model,\n",
    ")\n",
    "\n",
    "neural_net_params, neural_net_static = eqx.partition(model, eqx.is_array)\n",
    "\n",
    "cnn_mhd_corrector_config = CNNMHDconfig(\n",
    "    cnn_mhd_corrector=True, network_static=neural_net_static\n",
    ")\n",
    "\n",
    "cnn_mhd_corrector_params = CNNMHDParams(network_params=neural_net_params)\n"
   ]
  },
  {
   "cell_type": "code",
   "execution_count": 14,
   "id": "75130e42",
   "metadata": {},
   "outputs": [
    {
     "ename": "KeyboardInterrupt",
     "evalue": "",
     "output_type": "error",
     "traceback": [
      "\u001b[0;31m---------------------------------------------------------------------------\u001b[0m",
      "\u001b[0;31mKeyboardInterrupt\u001b[0m                         Traceback (most recent call last)",
      "Cell \u001b[0;32mIn[14], line 13\u001b[0m\n\u001b[1;32m      1\u001b[0m (\n\u001b[1;32m      2\u001b[0m     initial_state,\n\u001b[1;32m      3\u001b[0m     config,\n\u001b[0;32m   (...)\u001b[0m\n\u001b[1;32m      9\u001b[0m     cfg\u001b[38;5;241m.\u001b[39mdata\u001b[38;5;241m.\u001b[39mhr_res, cfg\u001b[38;5;241m.\u001b[39mdata, [\u001b[38;5;241m1\u001b[39m, \u001b[38;5;241m1\u001b[39m, \u001b[38;5;241m1\u001b[39m]\n\u001b[1;32m     10\u001b[0m )\n\u001b[1;32m     12\u001b[0m config \u001b[38;5;241m=\u001b[39m finalize_config(config, initial_state\u001b[38;5;241m.\u001b[39mshape)\n\u001b[0;32m---> 13\u001b[0m final_states_hr \u001b[38;5;241m=\u001b[39m \u001b[43mtime_integration\u001b[49m\u001b[43m(\u001b[49m\n\u001b[1;32m     14\u001b[0m \u001b[43m    \u001b[49m\u001b[43minitial_state\u001b[49m\u001b[43m,\u001b[49m\u001b[43m \u001b[49m\u001b[43mconfig\u001b[49m\u001b[43m,\u001b[49m\u001b[43m \u001b[49m\u001b[43mparams\u001b[49m\u001b[43m,\u001b[49m\u001b[43m \u001b[49m\u001b[43mhelper_data\u001b[49m\u001b[43m,\u001b[49m\u001b[43m \u001b[49m\u001b[43mregistered_variables\u001b[49m\n\u001b[1;32m     15\u001b[0m \u001b[43m)\u001b[49m\n\u001b[1;32m     16\u001b[0m ne_states \u001b[38;5;241m=\u001b[39m final_states_hr\u001b[38;5;241m.\u001b[39mstates\n\u001b[1;32m     17\u001b[0m ne_states \u001b[38;5;241m=\u001b[39m downaverage_states(ne_states, cfg\u001b[38;5;241m.\u001b[39mdata\u001b[38;5;241m.\u001b[39mdownscaling_factor)\n",
      "    \u001b[0;31m[... skipping hidden 2 frame]\u001b[0m\n",
      "File \u001b[0;32m~/Thesis/jf1uids/jf1uids/time_stepping/time_integration.py:77\u001b[0m, in \u001b[0;36mtime_integration\u001b[0;34m(primitive_state, config, params, helper_data, registered_variables, snapshot_callable)\u001b[0m\n\u001b[1;32m     74\u001b[0m     \u001b[38;5;28;01mreturn\u001b[39;00m final_state\n\u001b[1;32m     76\u001b[0m \u001b[38;5;28;01melse\u001b[39;00m:\n\u001b[0;32m---> 77\u001b[0m     \u001b[38;5;28;01mreturn\u001b[39;00m \u001b[43m_time_integration\u001b[49m\u001b[43m(\u001b[49m\u001b[43mprimitive_state\u001b[49m\u001b[43m,\u001b[49m\u001b[43m \u001b[49m\u001b[43mconfig\u001b[49m\u001b[43m,\u001b[49m\u001b[43m \u001b[49m\u001b[43mparams\u001b[49m\u001b[43m,\u001b[49m\u001b[43m \u001b[49m\u001b[43mhelper_data\u001b[49m\u001b[43m,\u001b[49m\u001b[43m \u001b[49m\u001b[43mregistered_variables\u001b[49m\u001b[43m,\u001b[49m\u001b[43m \u001b[49m\u001b[43msnapshot_callable\u001b[49m\u001b[43m)\u001b[49m\n",
      "    \u001b[0;31m[... skipping hidden 3 frame]\u001b[0m\n",
      "File \u001b[0;32m~/miniconda3/envs/thesis_2/lib/python3.10/site-packages/jax/_src/pjit.py:292\u001b[0m, in \u001b[0;36m_cpp_pjit.<locals>.cache_miss\u001b[0;34m(*args, **kwargs)\u001b[0m\n\u001b[1;32m    287\u001b[0m \u001b[38;5;28;01mif\u001b[39;00m config\u001b[38;5;241m.\u001b[39mno_tracing\u001b[38;5;241m.\u001b[39mvalue:\n\u001b[1;32m    288\u001b[0m   \u001b[38;5;28;01mraise\u001b[39;00m \u001b[38;5;167;01mRuntimeError\u001b[39;00m(\u001b[38;5;124mf\u001b[39m\u001b[38;5;124m\"\u001b[39m\u001b[38;5;124mre-tracing function \u001b[39m\u001b[38;5;132;01m{\u001b[39;00mjit_info\u001b[38;5;241m.\u001b[39mfun_sourceinfo\u001b[38;5;132;01m}\u001b[39;00m\u001b[38;5;124m for \u001b[39m\u001b[38;5;124m\"\u001b[39m\n\u001b[1;32m    289\u001b[0m                      \u001b[38;5;124m\"\u001b[39m\u001b[38;5;124m`jit`, but \u001b[39m\u001b[38;5;124m'\u001b[39m\u001b[38;5;124mno_tracing\u001b[39m\u001b[38;5;124m'\u001b[39m\u001b[38;5;124m is set\u001b[39m\u001b[38;5;124m\"\u001b[39m)\n\u001b[1;32m    291\u001b[0m (outs, out_flat, out_tree, args_flat, jaxpr, attrs_tracked, box_data,\n\u001b[0;32m--> 292\u001b[0m  executable, pgle_profiler) \u001b[38;5;241m=\u001b[39m \u001b[43m_python_pjit_helper\u001b[49m\u001b[43m(\u001b[49m\u001b[43mfun\u001b[49m\u001b[43m,\u001b[49m\u001b[43m \u001b[49m\u001b[43mjit_info\u001b[49m\u001b[43m,\u001b[49m\u001b[43m \u001b[49m\u001b[38;5;241;43m*\u001b[39;49m\u001b[43margs\u001b[49m\u001b[43m,\u001b[49m\u001b[43m \u001b[49m\u001b[38;5;241;43m*\u001b[39;49m\u001b[38;5;241;43m*\u001b[39;49m\u001b[43mkwargs\u001b[49m\u001b[43m)\u001b[49m\n\u001b[1;32m    294\u001b[0m maybe_fastpath_data \u001b[38;5;241m=\u001b[39m _get_fastpath_data(\n\u001b[1;32m    295\u001b[0m     executable, out_tree, args_flat, out_flat, attrs_tracked, box_data,\n\u001b[1;32m    296\u001b[0m     jaxpr\u001b[38;5;241m.\u001b[39meffects, jaxpr\u001b[38;5;241m.\u001b[39mconsts, jit_info\u001b[38;5;241m.\u001b[39mabstracted_axes, pgle_profiler)\n\u001b[1;32m    298\u001b[0m \u001b[38;5;28;01mreturn\u001b[39;00m outs, maybe_fastpath_data, _need_to_rebuild_with_fdo(pgle_profiler)\n",
      "File \u001b[0;32m~/miniconda3/envs/thesis_2/lib/python3.10/site-packages/jax/_src/pjit.py:153\u001b[0m, in \u001b[0;36m_python_pjit_helper\u001b[0;34m(fun, jit_info, *args, **kwargs)\u001b[0m\n\u001b[1;32m    151\u001b[0m   args_flat \u001b[38;5;241m=\u001b[39m \u001b[38;5;28mmap\u001b[39m(core\u001b[38;5;241m.\u001b[39mfull_lower, args_flat)\n\u001b[1;32m    152\u001b[0m   core\u001b[38;5;241m.\u001b[39mcheck_eval_args(args_flat)\n\u001b[0;32m--> 153\u001b[0m   out_flat, compiled, profiler \u001b[38;5;241m=\u001b[39m \u001b[43m_pjit_call_impl_python\u001b[49m\u001b[43m(\u001b[49m\u001b[38;5;241;43m*\u001b[39;49m\u001b[43margs_flat\u001b[49m\u001b[43m,\u001b[49m\u001b[43m \u001b[49m\u001b[38;5;241;43m*\u001b[39;49m\u001b[38;5;241;43m*\u001b[39;49m\u001b[43mp\u001b[49m\u001b[38;5;241;43m.\u001b[39;49m\u001b[43mparams\u001b[49m\u001b[43m)\u001b[49m\n\u001b[1;32m    154\u001b[0m \u001b[38;5;28;01melse\u001b[39;00m:\n\u001b[1;32m    155\u001b[0m   out_flat \u001b[38;5;241m=\u001b[39m pjit_p\u001b[38;5;241m.\u001b[39mbind(\u001b[38;5;241m*\u001b[39margs_flat, \u001b[38;5;241m*\u001b[39m\u001b[38;5;241m*\u001b[39mp\u001b[38;5;241m.\u001b[39mparams)\n",
      "File \u001b[0;32m~/miniconda3/envs/thesis_2/lib/python3.10/site-packages/jax/_src/pjit.py:1855\u001b[0m, in \u001b[0;36m_pjit_call_impl_python\u001b[0;34m(jaxpr, in_shardings, out_shardings, in_layouts, out_layouts, donated_invars, ctx_mesh, name, keep_unused, inline, compiler_options_kvs, *args)\u001b[0m\n\u001b[1;32m   1843\u001b[0m compiler_options_kvs \u001b[38;5;241m=\u001b[39m compiler_options_kvs \u001b[38;5;241m+\u001b[39m \u001b[38;5;28mtuple\u001b[39m(pgle_compile_options\u001b[38;5;241m.\u001b[39mitems())\n\u001b[1;32m   1844\u001b[0m \u001b[38;5;66;03m# Passing mutable PGLE profile here since it should be extracted by JAXPR to\u001b[39;00m\n\u001b[1;32m   1845\u001b[0m \u001b[38;5;66;03m# initialize the fdo_profile compile option.\u001b[39;00m\n\u001b[1;32m   1846\u001b[0m compiled \u001b[38;5;241m=\u001b[39m \u001b[43m_resolve_and_lower\u001b[49m\u001b[43m(\u001b[49m\n\u001b[1;32m   1847\u001b[0m \u001b[43m    \u001b[49m\u001b[43margs\u001b[49m\u001b[43m,\u001b[49m\u001b[43m \u001b[49m\u001b[43mjaxpr\u001b[49m\u001b[38;5;241;43m=\u001b[39;49m\u001b[43mjaxpr\u001b[49m\u001b[43m,\u001b[49m\u001b[43m \u001b[49m\u001b[43min_shardings\u001b[49m\u001b[38;5;241;43m=\u001b[39;49m\u001b[43min_shardings\u001b[49m\u001b[43m,\u001b[49m\n\u001b[1;32m   1848\u001b[0m \u001b[43m    \u001b[49m\u001b[43mout_shardings\u001b[49m\u001b[38;5;241;43m=\u001b[39;49m\u001b[43mout_shardings\u001b[49m\u001b[43m,\u001b[49m\u001b[43m \u001b[49m\u001b[43min_layouts\u001b[49m\u001b[38;5;241;43m=\u001b[39;49m\u001b[43min_layouts\u001b[49m\u001b[43m,\u001b[49m\n\u001b[1;32m   1849\u001b[0m \u001b[43m    \u001b[49m\u001b[43mout_layouts\u001b[49m\u001b[38;5;241;43m=\u001b[39;49m\u001b[43mout_layouts\u001b[49m\u001b[43m,\u001b[49m\u001b[43m \u001b[49m\u001b[43mdonated_invars\u001b[49m\u001b[38;5;241;43m=\u001b[39;49m\u001b[43mdonated_invars\u001b[49m\u001b[43m,\u001b[49m\n\u001b[1;32m   1850\u001b[0m \u001b[43m    \u001b[49m\u001b[43mctx_mesh\u001b[49m\u001b[38;5;241;43m=\u001b[39;49m\u001b[43mctx_mesh\u001b[49m\u001b[43m,\u001b[49m\u001b[43m \u001b[49m\u001b[43mname\u001b[49m\u001b[38;5;241;43m=\u001b[39;49m\u001b[43mname\u001b[49m\u001b[43m,\u001b[49m\u001b[43m \u001b[49m\u001b[43mkeep_unused\u001b[49m\u001b[38;5;241;43m=\u001b[39;49m\u001b[43mkeep_unused\u001b[49m\u001b[43m,\u001b[49m\n\u001b[1;32m   1851\u001b[0m \u001b[43m    \u001b[49m\u001b[43minline\u001b[49m\u001b[38;5;241;43m=\u001b[39;49m\u001b[43minline\u001b[49m\u001b[43m,\u001b[49m\u001b[43m \u001b[49m\u001b[43mlowering_platforms\u001b[49m\u001b[38;5;241;43m=\u001b[39;49m\u001b[38;5;28;43;01mNone\u001b[39;49;00m\u001b[43m,\u001b[49m\n\u001b[1;32m   1852\u001b[0m \u001b[43m    \u001b[49m\u001b[43mlowering_parameters\u001b[49m\u001b[38;5;241;43m=\u001b[39;49m\u001b[43mmlir\u001b[49m\u001b[38;5;241;43m.\u001b[39;49m\u001b[43mLoweringParameters\u001b[49m\u001b[43m(\u001b[49m\u001b[43m)\u001b[49m\u001b[43m,\u001b[49m\n\u001b[1;32m   1853\u001b[0m \u001b[43m    \u001b[49m\u001b[43mpgle_profiler\u001b[49m\u001b[38;5;241;43m=\u001b[39;49m\u001b[43mpgle_profiler\u001b[49m\u001b[43m,\u001b[49m\n\u001b[1;32m   1854\u001b[0m \u001b[43m    \u001b[49m\u001b[43mcompiler_options_kvs\u001b[49m\u001b[38;5;241;43m=\u001b[39;49m\u001b[43mcompiler_options_kvs\u001b[49m\u001b[43m,\u001b[49m\n\u001b[0;32m-> 1855\u001b[0m \u001b[43m\u001b[49m\u001b[43m)\u001b[49m\u001b[38;5;241;43m.\u001b[39;49m\u001b[43mcompile\u001b[49m\u001b[43m(\u001b[49m\u001b[43m)\u001b[49m\n\u001b[1;32m   1857\u001b[0m \u001b[38;5;66;03m# This check is expensive so only do it if enable_checks is on.\u001b[39;00m\n\u001b[1;32m   1858\u001b[0m \u001b[38;5;28;01mif\u001b[39;00m compiled\u001b[38;5;241m.\u001b[39m_auto_spmd_lowering \u001b[38;5;129;01mand\u001b[39;00m config\u001b[38;5;241m.\u001b[39menable_checks\u001b[38;5;241m.\u001b[39mvalue:\n",
      "File \u001b[0;32m~/miniconda3/envs/thesis_2/lib/python3.10/site-packages/jax/_src/interpreters/pxla.py:2410\u001b[0m, in \u001b[0;36mMeshComputation.compile\u001b[0;34m(self, compiler_options)\u001b[0m\n\u001b[1;32m   2408\u001b[0m compiler_options_kvs \u001b[38;5;241m=\u001b[39m \u001b[38;5;28mself\u001b[39m\u001b[38;5;241m.\u001b[39m_compiler_options_kvs \u001b[38;5;241m+\u001b[39m t_compiler_options\n\u001b[1;32m   2409\u001b[0m \u001b[38;5;28;01mif\u001b[39;00m \u001b[38;5;28mself\u001b[39m\u001b[38;5;241m.\u001b[39m_executable \u001b[38;5;129;01mis\u001b[39;00m \u001b[38;5;28;01mNone\u001b[39;00m \u001b[38;5;129;01mor\u001b[39;00m compiler_options_kvs:\n\u001b[0;32m-> 2410\u001b[0m   executable \u001b[38;5;241m=\u001b[39m \u001b[43mUnloadedMeshExecutable\u001b[49m\u001b[38;5;241;43m.\u001b[39;49m\u001b[43mfrom_hlo\u001b[49m\u001b[43m(\u001b[49m\n\u001b[1;32m   2411\u001b[0m \u001b[43m      \u001b[49m\u001b[38;5;28;43mself\u001b[39;49m\u001b[38;5;241;43m.\u001b[39;49m\u001b[43m_name\u001b[49m\u001b[43m,\u001b[49m\u001b[43m \u001b[49m\u001b[38;5;28;43mself\u001b[39;49m\u001b[38;5;241;43m.\u001b[39;49m\u001b[43m_hlo\u001b[49m\u001b[43m,\u001b[49m\u001b[43m \u001b[49m\u001b[38;5;241;43m*\u001b[39;49m\u001b[38;5;241;43m*\u001b[39;49m\u001b[38;5;28;43mself\u001b[39;49m\u001b[38;5;241;43m.\u001b[39;49m\u001b[43mcompile_args\u001b[49m\u001b[43m,\u001b[49m\n\u001b[1;32m   2412\u001b[0m \u001b[43m      \u001b[49m\u001b[43mcompiler_options_kvs\u001b[49m\u001b[38;5;241;43m=\u001b[39;49m\u001b[43mcompiler_options_kvs\u001b[49m\u001b[43m)\u001b[49m\n\u001b[1;32m   2413\u001b[0m   \u001b[38;5;28;01mif\u001b[39;00m \u001b[38;5;129;01mnot\u001b[39;00m compiler_options_kvs:\n\u001b[1;32m   2414\u001b[0m     \u001b[38;5;28mself\u001b[39m\u001b[38;5;241m.\u001b[39m_executable \u001b[38;5;241m=\u001b[39m executable\n",
      "File \u001b[0;32m~/miniconda3/envs/thesis_2/lib/python3.10/site-packages/jax/_src/interpreters/pxla.py:2952\u001b[0m, in \u001b[0;36mUnloadedMeshExecutable.from_hlo\u001b[0;34m(***failed resolving arguments***)\u001b[0m\n\u001b[1;32m   2949\u001b[0m       \u001b[38;5;28;01mbreak\u001b[39;00m\n\u001b[1;32m   2951\u001b[0m util\u001b[38;5;241m.\u001b[39mtest_event(\u001b[38;5;124m\"\u001b[39m\u001b[38;5;124mpxla_cached_compilation\u001b[39m\u001b[38;5;124m\"\u001b[39m)\n\u001b[0;32m-> 2952\u001b[0m xla_executable \u001b[38;5;241m=\u001b[39m \u001b[43m_cached_compilation\u001b[49m\u001b[43m(\u001b[49m\n\u001b[1;32m   2953\u001b[0m \u001b[43m    \u001b[49m\u001b[43mhlo\u001b[49m\u001b[43m,\u001b[49m\u001b[43m \u001b[49m\u001b[43mname\u001b[49m\u001b[43m,\u001b[49m\u001b[43m \u001b[49m\u001b[43mmesh\u001b[49m\u001b[43m,\u001b[49m\u001b[43m \u001b[49m\u001b[43mspmd_lowering\u001b[49m\u001b[43m,\u001b[49m\n\u001b[1;32m   2954\u001b[0m \u001b[43m    \u001b[49m\u001b[43mtuple_args\u001b[49m\u001b[43m,\u001b[49m\u001b[43m \u001b[49m\u001b[43mauto_spmd_lowering\u001b[49m\u001b[43m,\u001b[49m\u001b[43m \u001b[49m\u001b[43mallow_prop_to_inputs\u001b[49m\u001b[43m,\u001b[49m\n\u001b[1;32m   2955\u001b[0m \u001b[43m    \u001b[49m\u001b[43mallow_prop_to_outputs\u001b[49m\u001b[43m,\u001b[49m\u001b[43m \u001b[49m\u001b[38;5;28;43mtuple\u001b[39;49m\u001b[43m(\u001b[49m\u001b[43mhost_callbacks\u001b[49m\u001b[43m)\u001b[49m\u001b[43m,\u001b[49m\u001b[43m \u001b[49m\u001b[43mbackend\u001b[49m\u001b[43m,\u001b[49m\u001b[43m \u001b[49m\u001b[43mda\u001b[49m\u001b[43m,\u001b[49m\u001b[43m \u001b[49m\u001b[43mpmap_nreps\u001b[49m\u001b[43m,\u001b[49m\n\u001b[1;32m   2956\u001b[0m \u001b[43m    \u001b[49m\u001b[43mcompiler_options_kvs\u001b[49m\u001b[43m,\u001b[49m\u001b[43m \u001b[49m\u001b[43mpgle_profiler\u001b[49m\u001b[43m)\u001b[49m\n\u001b[1;32m   2958\u001b[0m \u001b[38;5;28;01mif\u001b[39;00m auto_spmd_lowering:\n\u001b[1;32m   2959\u001b[0m   \u001b[38;5;28;01massert\u001b[39;00m mesh \u001b[38;5;129;01mis\u001b[39;00m \u001b[38;5;129;01mnot\u001b[39;00m \u001b[38;5;28;01mNone\u001b[39;00m\n",
      "File \u001b[0;32m~/miniconda3/envs/thesis_2/lib/python3.10/site-packages/jax/_src/interpreters/pxla.py:2743\u001b[0m, in \u001b[0;36m_cached_compilation\u001b[0;34m(computation, name, mesh, spmd_lowering, tuple_args, auto_spmd_lowering, allow_prop_to_inputs, allow_prop_to_outputs, host_callbacks, backend, da, pmap_nreps, compiler_options_kvs, pgle_profiler)\u001b[0m\n\u001b[1;32m   2735\u001b[0m compile_options \u001b[38;5;241m=\u001b[39m create_compile_options(\n\u001b[1;32m   2736\u001b[0m     computation, mesh, spmd_lowering, tuple_args, auto_spmd_lowering,\n\u001b[1;32m   2737\u001b[0m     allow_prop_to_inputs, allow_prop_to_outputs, backend,\n\u001b[1;32m   2738\u001b[0m     dev, pmap_nreps, compiler_options)\n\u001b[1;32m   2740\u001b[0m \u001b[38;5;28;01mwith\u001b[39;00m dispatch\u001b[38;5;241m.\u001b[39mlog_elapsed_time(\n\u001b[1;32m   2741\u001b[0m     \u001b[38;5;124m\"\u001b[39m\u001b[38;5;124mFinished XLA compilation of \u001b[39m\u001b[38;5;132;01m{fun_name}\u001b[39;00m\u001b[38;5;124m in \u001b[39m\u001b[38;5;132;01m{elapsed_time:.9f}\u001b[39;00m\u001b[38;5;124m sec\u001b[39m\u001b[38;5;124m\"\u001b[39m,\n\u001b[1;32m   2742\u001b[0m     fun_name\u001b[38;5;241m=\u001b[39mname, event\u001b[38;5;241m=\u001b[39mdispatch\u001b[38;5;241m.\u001b[39mBACKEND_COMPILE_EVENT):\n\u001b[0;32m-> 2743\u001b[0m   xla_executable \u001b[38;5;241m=\u001b[39m \u001b[43mcompiler\u001b[49m\u001b[38;5;241;43m.\u001b[39;49m\u001b[43mcompile_or_get_cached\u001b[49m\u001b[43m(\u001b[49m\n\u001b[1;32m   2744\u001b[0m \u001b[43m      \u001b[49m\u001b[43mbackend\u001b[49m\u001b[43m,\u001b[49m\u001b[43m \u001b[49m\u001b[43mcomputation\u001b[49m\u001b[43m,\u001b[49m\u001b[43m \u001b[49m\u001b[43mdev\u001b[49m\u001b[43m,\u001b[49m\u001b[43m \u001b[49m\u001b[43mcompile_options\u001b[49m\u001b[43m,\u001b[49m\u001b[43m \u001b[49m\u001b[43mhost_callbacks\u001b[49m\u001b[43m,\u001b[49m\n\u001b[1;32m   2745\u001b[0m \u001b[43m      \u001b[49m\u001b[43mda\u001b[49m\u001b[43m,\u001b[49m\u001b[43m \u001b[49m\u001b[43mpgle_profiler\u001b[49m\u001b[43m)\u001b[49m\n\u001b[1;32m   2746\u001b[0m \u001b[38;5;28;01mreturn\u001b[39;00m xla_executable\n",
      "File \u001b[0;32m~/miniconda3/envs/thesis_2/lib/python3.10/site-packages/jax/_src/compiler.py:500\u001b[0m, in \u001b[0;36mcompile_or_get_cached\u001b[0;34m(backend, computation, devices, compile_options, host_callbacks, executable_devices, pgle_profiler)\u001b[0m\n\u001b[1;32m    498\u001b[0m \u001b[38;5;28;01melse\u001b[39;00m:\n\u001b[1;32m    499\u001b[0m   log_persistent_cache_miss(module_name, cache_key)\n\u001b[0;32m--> 500\u001b[0m   \u001b[38;5;28;01mreturn\u001b[39;00m \u001b[43m_compile_and_write_cache\u001b[49m\u001b[43m(\u001b[49m\n\u001b[1;32m    501\u001b[0m \u001b[43m      \u001b[49m\u001b[43mbackend\u001b[49m\u001b[43m,\u001b[49m\n\u001b[1;32m    502\u001b[0m \u001b[43m      \u001b[49m\u001b[43mcomputation\u001b[49m\u001b[43m,\u001b[49m\n\u001b[1;32m    503\u001b[0m \u001b[43m      \u001b[49m\u001b[43mexecutable_devices\u001b[49m\u001b[43m,\u001b[49m\n\u001b[1;32m    504\u001b[0m \u001b[43m      \u001b[49m\u001b[43mcompile_options\u001b[49m\u001b[43m,\u001b[49m\n\u001b[1;32m    505\u001b[0m \u001b[43m      \u001b[49m\u001b[43mhost_callbacks\u001b[49m\u001b[43m,\u001b[49m\n\u001b[1;32m    506\u001b[0m \u001b[43m      \u001b[49m\u001b[43mmodule_name\u001b[49m\u001b[43m,\u001b[49m\n\u001b[1;32m    507\u001b[0m \u001b[43m      \u001b[49m\u001b[43mcache_key\u001b[49m\u001b[43m,\u001b[49m\n\u001b[1;32m    508\u001b[0m \u001b[43m  \u001b[49m\u001b[43m)\u001b[49m\n",
      "File \u001b[0;32m~/miniconda3/envs/thesis_2/lib/python3.10/site-packages/jax/_src/compiler.py:768\u001b[0m, in \u001b[0;36m_compile_and_write_cache\u001b[0;34m(backend, computation, executable_devices, compile_options, host_callbacks, module_name, cache_key)\u001b[0m\n\u001b[1;32m    758\u001b[0m \u001b[38;5;28;01mdef\u001b[39;00m\u001b[38;5;250m \u001b[39m\u001b[38;5;21m_compile_and_write_cache\u001b[39m(\n\u001b[1;32m    759\u001b[0m     backend: xc\u001b[38;5;241m.\u001b[39mClient,\n\u001b[1;32m    760\u001b[0m     computation: ir\u001b[38;5;241m.\u001b[39mModule,\n\u001b[0;32m   (...)\u001b[0m\n\u001b[1;32m    765\u001b[0m     cache_key: \u001b[38;5;28mstr\u001b[39m,\n\u001b[1;32m    766\u001b[0m ) \u001b[38;5;241m-\u001b[39m\u001b[38;5;241m>\u001b[39m xc\u001b[38;5;241m.\u001b[39mLoadedExecutable:\n\u001b[1;32m    767\u001b[0m   start_time \u001b[38;5;241m=\u001b[39m time\u001b[38;5;241m.\u001b[39mmonotonic()\n\u001b[0;32m--> 768\u001b[0m   executable \u001b[38;5;241m=\u001b[39m \u001b[43mbackend_compile_and_load\u001b[49m\u001b[43m(\u001b[49m\n\u001b[1;32m    769\u001b[0m \u001b[43m      \u001b[49m\u001b[43mbackend\u001b[49m\u001b[43m,\u001b[49m\u001b[43m \u001b[49m\u001b[43mcomputation\u001b[49m\u001b[43m,\u001b[49m\u001b[43m \u001b[49m\u001b[43mexecutable_devices\u001b[49m\u001b[43m,\u001b[49m\u001b[43m \u001b[49m\u001b[43mcompile_options\u001b[49m\u001b[43m,\u001b[49m\u001b[43m \u001b[49m\u001b[43mhost_callbacks\u001b[49m\n\u001b[1;32m    770\u001b[0m \u001b[43m  \u001b[49m\u001b[43m)\u001b[49m\n\u001b[1;32m    771\u001b[0m   compile_time \u001b[38;5;241m=\u001b[39m time\u001b[38;5;241m.\u001b[39mmonotonic() \u001b[38;5;241m-\u001b[39m start_time\n\u001b[1;32m    772\u001b[0m   _cache_write(\n\u001b[1;32m    773\u001b[0m       cache_key, compile_time, module_name, backend, executable, host_callbacks\n\u001b[1;32m    774\u001b[0m   )\n",
      "File \u001b[0;32m~/miniconda3/envs/thesis_2/lib/python3.10/site-packages/jax/_src/profiler.py:354\u001b[0m, in \u001b[0;36mannotate_function.<locals>.wrapper\u001b[0;34m(*args, **kwargs)\u001b[0m\n\u001b[1;32m    351\u001b[0m \u001b[38;5;129m@wraps\u001b[39m(func)\n\u001b[1;32m    352\u001b[0m \u001b[38;5;28;01mdef\u001b[39;00m\u001b[38;5;250m \u001b[39m\u001b[38;5;21mwrapper\u001b[39m(\u001b[38;5;241m*\u001b[39margs, \u001b[38;5;241m*\u001b[39m\u001b[38;5;241m*\u001b[39mkwargs):\n\u001b[1;32m    353\u001b[0m   \u001b[38;5;28;01mwith\u001b[39;00m TraceAnnotation(name, \u001b[38;5;241m*\u001b[39m\u001b[38;5;241m*\u001b[39mdecorator_kwargs):\n\u001b[0;32m--> 354\u001b[0m     \u001b[38;5;28;01mreturn\u001b[39;00m \u001b[43mfunc\u001b[49m\u001b[43m(\u001b[49m\u001b[38;5;241;43m*\u001b[39;49m\u001b[43margs\u001b[49m\u001b[43m,\u001b[49m\u001b[43m \u001b[49m\u001b[38;5;241;43m*\u001b[39;49m\u001b[38;5;241;43m*\u001b[39;49m\u001b[43mkwargs\u001b[49m\u001b[43m)\u001b[49m\n",
      "File \u001b[0;32m~/miniconda3/envs/thesis_2/lib/python3.10/site-packages/jax/_src/compiler.py:385\u001b[0m, in \u001b[0;36mbackend_compile_and_load\u001b[0;34m(backend, module, executable_devices, options, host_callbacks)\u001b[0m\n\u001b[1;32m    376\u001b[0m       \u001b[38;5;28;01mreturn\u001b[39;00m backend\u001b[38;5;241m.\u001b[39mcompile_and_load(\n\u001b[1;32m    377\u001b[0m           built_c,\n\u001b[1;32m    378\u001b[0m           executable_devices\u001b[38;5;241m=\u001b[39mexecutable_devices,\n\u001b[1;32m    379\u001b[0m           compile_options\u001b[38;5;241m=\u001b[39moptions,\n\u001b[1;32m    380\u001b[0m           host_callbacks\u001b[38;5;241m=\u001b[39mhost_callbacks,\n\u001b[1;32m    381\u001b[0m       )\n\u001b[1;32m    382\u001b[0m     \u001b[38;5;66;03m# Some backends don't have `host_callbacks` option yet\u001b[39;00m\n\u001b[1;32m    383\u001b[0m     \u001b[38;5;66;03m# TODO(sharadmv): remove this fallback when all backends allow `compile`\u001b[39;00m\n\u001b[1;32m    384\u001b[0m     \u001b[38;5;66;03m# to take in `host_callbacks`\u001b[39;00m\n\u001b[0;32m--> 385\u001b[0m     \u001b[38;5;28;01mreturn\u001b[39;00m \u001b[43mbackend\u001b[49m\u001b[38;5;241;43m.\u001b[39;49m\u001b[43mcompile_and_load\u001b[49m\u001b[43m(\u001b[49m\n\u001b[1;32m    386\u001b[0m \u001b[43m        \u001b[49m\u001b[43mbuilt_c\u001b[49m\u001b[43m,\u001b[49m\n\u001b[1;32m    387\u001b[0m \u001b[43m        \u001b[49m\u001b[43mexecutable_devices\u001b[49m\u001b[38;5;241;43m=\u001b[39;49m\u001b[43mexecutable_devices\u001b[49m\u001b[43m,\u001b[49m\n\u001b[1;32m    388\u001b[0m \u001b[43m        \u001b[49m\u001b[43mcompile_options\u001b[49m\u001b[38;5;241;43m=\u001b[39;49m\u001b[43moptions\u001b[49m\u001b[43m,\u001b[49m\n\u001b[1;32m    389\u001b[0m \u001b[43m    \u001b[49m\u001b[43m)\u001b[49m\n\u001b[1;32m    390\u001b[0m \u001b[38;5;28;01mexcept\u001b[39;00m xc\u001b[38;5;241m.\u001b[39mXlaRuntimeError \u001b[38;5;28;01mas\u001b[39;00m e:\n\u001b[1;32m    391\u001b[0m   \u001b[38;5;28;01mfor\u001b[39;00m error_handler \u001b[38;5;129;01min\u001b[39;00m _XLA_RUNTIME_ERROR_HANDLERS:\n",
      "\u001b[0;31mKeyboardInterrupt\u001b[0m: "
     ]
    }
   ],
   "source": [
    "(\n",
    "    initial_state,\n",
    "    config,\n",
    "    params,\n",
    "    helper_data,\n",
    "    registered_variables,\n",
    "    randomized_output_vars,\n",
    ") = blast.randomized_initial_blast_state(\n",
    "    cfg.data.hr_res, cfg.data, [1, 1, 1]\n",
    ")\n",
    "\n",
    "config = finalize_config(config, initial_state.shape)\n",
    "final_states_hr = time_integration(\n",
    "    initial_state, config, params, helper_data, registered_variables\n",
    ")\n",
    "ne_states = final_states_hr.states\n",
    "ne_states = downaverage_states(ne_states, cfg.data.downscaling_factor)\n"
   ]
  },
  {
   "cell_type": "code",
   "execution_count": 15,
   "id": "d2343f44",
   "metadata": {},
   "outputs": [],
   "source": [
    "from jf1uids import SimulationConfig\n",
    "from jf1uids.option_classes.simulation_config import BACKWARDS, HLL, BoundarySettings\n",
    "from jf1uids import get_helper_data\n",
    "from jf1uids import get_registered_variables\n",
    "from jf1uids import CodeUnits\n",
    "from astropy import units as u\n",
    "from jf1uids import SimulationParams\n"
   ]
  },
  {
   "cell_type": "code",
   "execution_count": 6,
   "id": "caa3c584",
   "metadata": {},
   "outputs": [
    {
     "name": "stdout",
     "output_type": "stream",
     "text": [
      "[] [] [] [] [] [] [] []\n"
     ]
    }
   ],
   "source": [
    "adiabatic_index = 5 / 3\n",
    "box_size = 1.0\n",
    "fixed_timestep = True\n",
    "dt_max = 0.1\n",
    "mhd = True\n",
    "randomizers = [1, 1, 1]\n",
    "# setup simulation config\n",
    "config = SimulationConfig(\n",
    "    runtime_debugging=False,\n",
    "    first_order_fallback=False,\n",
    "    progress_bar=False,\n",
    "    dimensionality=3,\n",
    "    num_ghost_cells=2,\n",
    "    box_size=box_size,\n",
    "    num_cells=32,\n",
    "    mhd=mhd,\n",
    "    fixed_timestep=fixed_timestep,\n",
    "    differentiation_mode=BACKWARDS,\n",
    "    riemann_solver=HLL,\n",
    "    limiter=0,\n",
    "    return_snapshots=True,\n",
    "    num_snapshots=cfg.data.num_snapshots,\n",
    "    boundary_settings=BoundarySettings(),\n",
    "    num_checkpoints=cfg.data.num_checkpoints,\n",
    "    # boundary_settings=BoundarySettings(\n",
    "    #    x=BoundarySettings1D(PERIODIC_BOUNDARY, PERIODIC_BOUNDARY),\n",
    "    #    y=BoundarySettings1D(PERIODIC_BOUNDARY, PERIODIC_BOUNDARY),\n",
    "    #    z=BoundarySettings1D(PERIODIC_BOUNDARY, PERIODIC_BOUNDARY),\n",
    "    # ),\n",
    ")\n",
    "\n",
    "helper_data = get_helper_data(config)\n",
    "registered_variables = get_registered_variables(config)\n",
    "\n",
    "# setup the unit system\n",
    "code_length = 3 * u.parsec\n",
    "code_mass = 1 * u.M_sun\n",
    "code_velocity = 100 * u.km / u.s\n",
    "code_units = CodeUnits(code_length, code_mass, code_velocity)\n",
    "\n",
    "# time domain\n",
    "C_CFL = 0.4  # Courant-Friedrichs-Lewy number\n",
    "t_final = 1.0 * 1e4 * u.yr\n",
    "t_end = t_final.to(code_units.code_time).value\n",
    "\n",
    "# set the simulation parameters\n",
    "params = SimulationParams(\n",
    "    C_cfl=C_CFL,\n",
    "    dt_max=dt_max,\n",
    "    gamma=adiabatic_index,\n",
    "    t_end=t_end,\n",
    ")\n",
    "\n",
    "grid_spacing = config.box_size / config.num_cells\n",
    "x = jnp.linspace(\n",
    "    grid_spacing / 2, config.box_size - grid_spacing / 2, config.num_cells\n",
    ")\n",
    "y = jnp.linspace(\n",
    "    grid_spacing / 2, config.box_size - grid_spacing / 2, config.num_cells\n",
    ")\n",
    "z = jnp.linspace(\n",
    "    grid_spacing / 2, config.box_size - grid_spacing / 2, config.num_cells\n",
    ")\n",
    "\n",
    "X, Y, Z = jnp.meshgrid(x, y, z, indexing=\"ij\")\n",
    "\n",
    "r = helper_data.r\n",
    "# Initialize state\n",
    "rho = jnp.ones_like(X)\n",
    "P = jnp.ones_like(X) * 0.1\n",
    "r_inj = 0.1 * box_size * randomizers[0]\n",
    "p_inj = 10.0 * randomizers[1]\n",
    "P = jnp.where(r**2 < r_inj**2, p_inj, P)\n",
    "\n",
    "u_x = jnp.zeros_like(X)\n",
    "u_y = jnp.zeros_like(X)\n",
    "u_z = jnp.zeros_like(X)\n",
    "\n",
    "B_0 = 1 / jnp.sqrt(2) * randomizers[2]\n",
    "B_x = B_0 * jnp.ones_like(X)\n",
    "B_y = B_0 * jnp.ones_like(X)\n",
    "B_z = jnp.zeros_like(X)\n",
    "print(\n",
    "    jnp.argwhere(jnp.isnan(P)),\n",
    "    jnp.argwhere(jnp.isnan(u_x)),\n",
    "    jnp.argwhere(jnp.isnan(u_y)),\n",
    "    jnp.argwhere(jnp.isnan(u_z)),\n",
    "    jnp.argwhere(jnp.isnan(B_x)),\n",
    "    jnp.argwhere(jnp.isnan(B_y)),\n",
    "    jnp.argwhere(jnp.isnan(B_z)),\n",
    "    jnp.argwhere(jnp.isnan(rho)),\n",
    ")\n",
    "\n"
   ]
  },
  {
   "cell_type": "code",
   "execution_count": 9,
   "id": "241f7760",
   "metadata": {},
   "outputs": [],
   "source": [
    "if jnp.isnan(P).any():\n",
    "    print(\"nan found in initial state\")"
   ]
  },
  {
   "cell_type": "code",
   "execution_count": 33,
   "id": "32affba7",
   "metadata": {},
   "outputs": [],
   "source": [
    "(\n",
    "    initial_state,\n",
    "    config,\n",
    "    params,\n",
    "    helper_data,\n",
    "    registered_variables,\n",
    "    randomized_output_vars,\n",
    ") = blast.randomized_initial_blast_state(\n",
    "    cfg.data.hr_res // cfg.data.downscaling_factor , cfg.data, [1, 1, 1]\n",
    ")\n",
    "config = finalize_config(config, initial_state.shape)\n",
    "\n",
    "config = config._replace(cnn_mhd_corrector_config=cnn_mhd_corrector_config)\n",
    "params = params._replace(cnn_mhd_corrector_params=cnn_mhd_corrector_params)\n",
    "\n",
    "final_states_lr = time_integration(\n",
    "    initial_state, config, params, helper_data, registered_variables\n",
    ")\n",
    "e_states = final_states_lr.states\n"
   ]
  },
  {
   "cell_type": "code",
   "execution_count": 4,
   "id": "e04c4492",
   "metadata": {},
   "outputs": [],
   "source": [
    "(\n",
    "    initial_state,\n",
    "    config,\n",
    "    params,\n",
    "    helper_data,\n",
    "    registered_variables,\n",
    "    randomized_output_vars,\n",
    ") = blast.randomized_initial_blast_state(\n",
    "    cfg.data.hr_res // cfg.data.downscaling_factor, cfg.data, [1, 1, 1]\n",
    ")\n",
    "\n",
    "config = finalize_config(config, initial_state.shape)\n",
    "\n",
    "config = config._replace(cnn_mhd_corrector_config=cnn_mhd_corrector_config)\n",
    "params = params._replace(cnn_mhd_corrector_params=cnn_mhd_corrector_params)\n"
   ]
  },
  {
   "cell_type": "code",
   "execution_count": 25,
   "id": "19e4219a",
   "metadata": {},
   "outputs": [],
   "source": [
    "from jf1uids._physics_modules.run_physics_modules import _run_physics_modules\n"
   ]
  },
  {
   "cell_type": "code",
   "execution_count": 6,
   "id": "dcea98c7",
   "metadata": {},
   "outputs": [],
   "source": [
    "dt = jnp.asarray(params.t_end / config.num_timesteps)\n"
   ]
  },
  {
   "cell_type": "code",
   "execution_count": 12,
   "id": "3774fef8",
   "metadata": {},
   "outputs": [
    {
     "name": "stdout",
     "output_type": "stream",
     "text": [
      "-7.555437734282688e-07\n",
      "(8, 32, 32, 32)\n"
     ]
    }
   ],
   "source": [
    "from jf1uids._physics_modules._cnn_mhd_corrector._cnn_mhd_corrector import (\n",
    "    _cnn_mhd_corrector,\n",
    ")\n",
    "from corrector_src.model._cnn_mhd_corrector import _cnn_mhd_corrector_2d, _cnn_mhd_corrector_3d\n",
    "\n",
    "primitive_state = _cnn_mhd_corrector_2d(\n",
    "    initial_state, config, registered_variables, params, dt)\n",
    "\n",
    "print(jnp.mean(primitive_state - initial_state))\n",
    "print(jnp.shape(primitive_state))"
   ]
  },
  {
   "cell_type": "code",
   "execution_count": 27,
   "id": "9434f7d7",
   "metadata": {},
   "outputs": [],
   "source": [
    "state = _run_physics_modules(\n",
    "    initial_state,\n",
    "    dt,\n",
    "    config,\n",
    "    params,\n",
    "    helper_data,\n",
    "    registered_variables,\n",
    "    dt,\n",
    ")\n",
    "\n",
    "if jnp.isnan(state).any():\n",
    "    print(\"found nan\")"
   ]
  },
  {
   "cell_type": "code",
   "execution_count": 28,
   "id": "ffbca4a0",
   "metadata": {},
   "outputs": [],
   "source": [
    "from jf1uids._state_evolution.evolve_state import _evolve_state\n"
   ]
  },
  {
   "cell_type": "code",
   "execution_count": 29,
   "id": "d7982b84",
   "metadata": {},
   "outputs": [],
   "source": [
    "# update state\n",
    "state = _evolve_state(\n",
    "    state,\n",
    "    dt,\n",
    "    params.gamma,\n",
    "    params.gravitational_constant,\n",
    "    config,\n",
    "    helper_data,\n",
    "    registered_variables,\n",
    ")\n",
    "if jnp.isnan(state).any():\n",
    "    print(\"found nan\")"
   ]
  },
  {
   "cell_type": "code",
   "execution_count": 54,
   "id": "771488e2",
   "metadata": {},
   "outputs": [
    {
     "data": {
      "text/plain": [
       "Array([], shape=(0, 4), dtype=int64)"
      ]
     },
     "execution_count": 54,
     "metadata": {},
     "output_type": "execute_result"
    }
   ],
   "source": [
    "jnp.shape(e_states[0])\n",
    "jnp.argwhere(jnp.isnan(e_states[0]))\n"
   ]
  },
  {
   "cell_type": "code",
   "execution_count": null,
   "id": "29579eb8",
   "metadata": {},
   "outputs": [
    {
     "ename": "SyntaxError",
     "evalue": "incomplete input (2018819236.py, line 2)",
     "output_type": "error",
     "traceback": [
      "\u001b[0;36m  Cell \u001b[0;32mIn[37], line 2\u001b[0;36m\u001b[0m\n\u001b[0;31m    if jnp.isnan(e_states[i]).any():\u001b[0m\n\u001b[0m                                    ^\u001b[0m\n\u001b[0;31mSyntaxError\u001b[0m\u001b[0;31m:\u001b[0m incomplete input\n"
     ]
    }
   ],
   "source": [
    "for i in jnp.arange(len(e_states)):\n",
    "    if jnp.isnan(e_states[i]).any()\n"
   ]
  },
  {
   "cell_type": "code",
   "execution_count": 11,
   "id": "400984cd",
   "metadata": {},
   "outputs": [],
   "source": [
    "from jf1uids._state_evolution.evolve_state import _evolve_state\n",
    "from jf1uids._physics_modules.run_physics_modules import _run_physics_modules\n"
   ]
  },
  {
   "cell_type": "code",
   "execution_count": 17,
   "id": "50bd0654",
   "metadata": {},
   "outputs": [
    {
     "data": {
      "text/plain": [
       "corrector_src.model._cnn_mhd_corrector.CorrectorCNN"
      ]
     },
     "execution_count": 17,
     "metadata": {},
     "output_type": "execute_result"
    }
   ],
   "source": []
  },
  {
   "cell_type": "code",
   "execution_count": 18,
   "id": "f1d5abaf",
   "metadata": {},
   "outputs": [
    {
     "name": "stdout",
     "output_type": "stream",
     "text": [
      "NaNs in parameters: False\n"
     ]
    }
   ],
   "source": [
    "import jax\n",
    "import jax.numpy as jnp\n",
    "import equinox as eqx\n",
    "\n",
    "# Flatten all parameters to a list\n",
    "all_params = jax.tree_util.tree_leaves(neural_net_params)\n",
    "\n",
    "# Check for NaNs in any parameter\n",
    "nan_found = any(jnp.isnan(p).any() for p in all_params)\n",
    "\n",
    "print(\"NaNs in parameters:\", nan_found)\n"
   ]
  },
  {
   "cell_type": "code",
   "execution_count": null,
   "id": "d0f3a74d",
   "metadata": {},
   "outputs": [],
   "source": []
  }
 ],
 "metadata": {
  "kernelspec": {
   "display_name": "thesis_2",
   "language": "python",
   "name": "python3"
  },
  "language_info": {
   "codemirror_mode": {
    "name": "ipython",
    "version": 3
   },
   "file_extension": ".py",
   "mimetype": "text/x-python",
   "name": "python",
   "nbconvert_exporter": "python",
   "pygments_lexer": "ipython3",
   "version": "3.10.18"
  }
 },
 "nbformat": 4,
 "nbformat_minor": 5
}
