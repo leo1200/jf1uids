{
 "cells": [
  {
   "cell_type": "code",
   "execution_count": 1,
   "id": "20b6fdaa",
   "metadata": {},
   "outputs": [],
   "source": [
    "import os\n",
    "os.environ[\"CUDA_VISIBLE_DEVICES\"] = \"3\"\n",
    "\n",
    "import jax.numpy as jnp\n",
    "import jax"
   ]
  },
  {
   "cell_type": "code",
   "execution_count": 5,
   "id": "f5339229",
   "metadata": {},
   "outputs": [
    {
     "name": "stdout",
     "output_type": "stream",
     "text": [
      "1: 0.002499995520338416\n",
      "2: 0.002499995520338416\n",
      "5: 0.0024999957531690598\n",
      "10: 0.002499995520338416\n"
     ]
    }
   ],
   "source": [
    "batch_ns = [1, 2, 5, 10]\n",
    "for n in batch_ns:\n",
    "    x = jnp.ones((n, 32, 32, 32))\n",
    "    y = jnp.ones((n, 32, 32, 32)) + 0.05\n",
    "\n",
    "    def simple_loss(x, y):\n",
    "        return jnp.mean(jnp.square(y - x))\n",
    "\n",
    "    print(f\"{n}: {simple_loss(x, y)}\")"
   ]
  },
  {
   "cell_type": "code",
   "execution_count": null,
   "id": "709d932f",
   "metadata": {},
   "outputs": [],
   "source": []
  }
 ],
 "metadata": {
  "kernelspec": {
   "display_name": "thesis_2",
   "language": "python",
   "name": "python3"
  },
  "language_info": {
   "codemirror_mode": {
    "name": "ipython",
    "version": 3
   },
   "file_extension": ".py",
   "mimetype": "text/x-python",
   "name": "python",
   "nbconvert_exporter": "python",
   "pygments_lexer": "ipython3",
   "version": "3.10.18"
  }
 },
 "nbformat": 4,
 "nbformat_minor": 5
}
